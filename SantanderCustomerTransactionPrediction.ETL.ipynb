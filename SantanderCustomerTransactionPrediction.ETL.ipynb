{
 "cells": [
  {
   "cell_type": "markdown",
   "metadata": {},
   "source": [
    "# Part2: Extract, Transform, Load"
   ]
  },
  {
   "cell_type": "markdown",
   "metadata": {},
   "source": [
    "data is taken from https://www.kaggle.com/c/santander-customer-transaction-prediction\n",
    "\n",
    "In this challenge, Santander invites Kagglers to help them identify which customers will make a specific transaction in the future, irrespective of the amount of money transacted. The data provided for this competition has the same structure as the real data they have available to solve this problem.\n",
    "\n",
    "The data is anonimyzed, each row containing 200 numerical values identified just with a number.\n",
    "\n",
    "In this notebook we prepare data for analysis."
   ]
  },
  {
   "cell_type": "markdown",
   "metadata": {},
   "source": [
    "## Load packages"
   ]
  },
  {
   "cell_type": "code",
   "execution_count": 1,
   "metadata": {},
   "outputs": [],
   "source": [
    "import numpy as np\n",
    "import pandas as pd\n",
    "import seaborn as sns\n",
    "import lightgbm as lgb\n",
    "\n",
    "import matplotlib.pyplot as plt\n",
    "\n",
    "from imblearn.over_sampling import SMOTE\n",
    "from collections import Counter\n",
    "\n",
    "from sklearn.preprocessing import StandardScaler\n",
    "from sklearn.model_selection import train_test_split\n",
    "from sklearn.decomposition import PCA"
   ]
  },
  {
   "cell_type": "markdown",
   "metadata": {},
   "source": [
    "## Load data"
   ]
  },
  {
   "cell_type": "code",
   "execution_count": 2,
   "metadata": {},
   "outputs": [],
   "source": [
    "df_train = pd.read_csv(\"datasets/train.csv\")\n",
    "df_test = pd.read_csv(\"datasets/test.csv\")"
   ]
  },
  {
   "cell_type": "markdown",
   "metadata": {},
   "source": [
    "### Prepare dataset for training"
   ]
  },
  {
   "cell_type": "code",
   "execution_count": 3,
   "metadata": {},
   "outputs": [
    {
     "name": "stdout",
     "output_type": "stream",
     "text": [
      "Original dataset shape Counter({0: 179902, 1: 20098})\n"
     ]
    }
   ],
   "source": [
    "#read dataset for training\n",
    "Y_train = df_train['target']\n",
    "X_train = df_train.drop(['target', 'ID_code'], axis=1)\n",
    "print('Original dataset shape %s' % Counter(Y_train))\n",
    "#read dataset for testing\n",
    "X_test = df_test.drop(['ID_code'], axis=1)\n"
   ]
  },
  {
   "cell_type": "code",
   "execution_count": 4,
   "metadata": {},
   "outputs": [],
   "source": [
    "#split 'train' dataset for training and validation\n",
    "X_train_samp ,X_val_samp ,Y_train_samp , Y_val_samp = train_test_split(X_train,Y_train,test_size=0.30,random_state=45)"
   ]
  },
  {
   "cell_type": "code",
   "execution_count": 5,
   "metadata": {},
   "outputs": [],
   "source": [
    "##over-sample training sample\n",
    "#print('Original training dataset shape %s' % Counter(Y_train_samp))\n",
    "#sm = SMOTE(random_state=42, sampling_strategy=0.2, k_neighbors=100)\n",
    "#X_train_resamp, Y_train_resamp = sm.fit_resample(X_train_samp, Y_train_samp)\n",
    "#print('Over-sampled trainig dataset shape %s' % Counter(Y_train_resamp))"
   ]
  },
  {
   "cell_type": "markdown",
   "metadata": {},
   "source": [
    "### Check for outliers"
   ]
  },
  {
   "cell_type": "code",
   "execution_count": 6,
   "metadata": {},
   "outputs": [],
   "source": [
    "def detect_outlier(data_1,thresh):\n",
    "    outliers=[]\n",
    "    threshold=thresh\n",
    "    mean_1 = np.mean(data_1)\n",
    "    std_1 =np.std(data_1)\n",
    "    for y in data_1:\n",
    "        z_score= (y - mean_1)/std_1 \n",
    "        if np.abs(z_score) > threshold:\n",
    "            #print (\"z_score\", z_score)\n",
    "            outliers.append(y)\n",
    "    return outliers"
   ]
  },
  {
   "cell_type": "code",
   "execution_count": 7,
   "metadata": {},
   "outputs": [],
   "source": [
    "##print(\"Before: \")\n",
    "##print (X_train_resamp.shape)\n",
    "##print (X_test.shape)\n",
    "#outsider=0\n",
    "#for i in range (200):\n",
    "#    name = 'var_'+str(i)  \n",
    "#    if(detect_outlier(X_train_resamp[i],5)):\n",
    "#        outsider=outsider+1\n",
    "#        #print (name, detect_outlier(X_train_resamp[i],5))\n",
    "#        ##remove variables with outliers\n",
    "#        #X_train_resamp = X_train_resamp.drop([i], axis=1)\n",
    "#        #X_test = X_test.drop([name], axis=1)\n",
    "#print(\"N outsiders: \",outsider)\n",
    "##print (X_train_resamp.shape)\n",
    "##print (X_test.shape)"
   ]
  },
  {
   "cell_type": "markdown",
   "metadata": {},
   "source": [
    "Variables with extrem outliers (with z_score>5) are not observed before resampling, but there are quite many after resampling.\n",
    "Possible improvement: tune settings for resampling? "
   ]
  },
  {
   "cell_type": "markdown",
   "metadata": {},
   "source": [
    "# Remove vars known to be strange\n"
   ]
  },
  {
   "cell_type": "code",
   "execution_count": 8,
   "metadata": {},
   "outputs": [],
   "source": [
    "# see https://www.kaggle.com/c/santander-customer-transaction-prediction/discussion/83048#486500\n",
    "for i in range (200):\n",
    "    if(i==68 or i==12 or i==15 or i==14):\n",
    "        name = 'var_'+str(i)\n",
    "        X_test = X_test.drop([name], axis=1)\n",
    "        X_train = X_train.drop([name], axis=1)\n",
    "        X_val_samp = X_val_samp.drop([name], axis=1)\n",
    "        X_train_samp = X_train_samp.drop([name], axis=1)\n",
    "       # X_train_resamp = X_train_resamp.drop([name], axis=1)"
   ]
  },
  {
   "cell_type": "markdown",
   "metadata": {},
   "source": [
    "### Normalisation\n",
    "For DNN we need normalised data\n"
   ]
  },
  {
   "cell_type": "code",
   "execution_count": 9,
   "metadata": {},
   "outputs": [],
   "source": [
    "#Standardize features by removing the mean and scaling to unit variance\n",
    "#sc = StandardScaler()\n",
    "#sc.fit(X_train_resamp)\n",
    "#X_train_std = sc.transform(X_train_resamp) #for training\n",
    "#X_test_std = sc.transform(X_test) #for model evaluation\n",
    "#X_val_std = sc.transform(X_val_samp) #for sanity checks\n",
    "\n",
    "#PCA\n",
    "pca = PCA(n_components='mle', svd_solver='full',whiten=True)\n",
    "#pca = PCA(n_components=100, svd_solver='randomized',whiten=True)\n",
    "#pca.fit(X_train_resamp)\n",
    "pca.fit(X_train)\n",
    "#X_train_resamp_std = pca.transform(X_train_resamp) #for alternative training\n",
    "X_test_std = pca.transform(X_test) #for model evaluation\n",
    "X_val_std = pca.transform(X_val_samp) #for sanity checks\n",
    "\n",
    "X_train_std = pca.transform(X_train_samp) #for training\n"
   ]
  },
  {
   "cell_type": "code",
   "execution_count": 10,
   "metadata": {},
   "outputs": [],
   "source": [
    "#check distributions after normalisations\n",
    "means_train=[]\n",
    "stds_train=[]\n",
    "means_test=[]\n",
    "stds_test=[]\n",
    "for j in range (200):\n",
    "    #print(\"Loop over N=\",len(X_train_std[:j]))\n",
    "    for i in range (len(X_train_std[:j])):\n",
    "        means_train.append(X_train_std[i:j].mean())\n",
    "        stds_train.append(X_train_std[i:j].std())    \n",
    "        means_test.append(X_test_std[i:j].mean())\n",
    "        stds_test.append(X_test_std[i:j].std())\n"
   ]
  },
  {
   "cell_type": "code",
   "execution_count": 11,
   "metadata": {},
   "outputs": [
    {
     "name": "stderr",
     "output_type": "stream",
     "text": [
      "/home/anastasia/anaconda3/lib/python3.7/site-packages/scipy/stats/stats.py:1713: FutureWarning: Using a non-tuple sequence for multidimensional indexing is deprecated; use `arr[tuple(seq)]` instead of `arr[seq]`. In the future this will be interpreted as an array index, `arr[np.array(seq)]`, which will result either in an error or a different result.\n",
      "  return np.add.reduce(sorted[indexer] * weights, axis=axis) / sumval\n"
     ]
    },
    {
     "data": {
      "image/png": "[encoded data removed]",
      "text/plain": [
       "<Figure size 1152x432 with 1 Axes>"
      ]
     },
     "metadata": {
      "needs_background": "light"
     },
     "output_type": "display_data"
    }
   ],
   "source": [
    "plt.figure(figsize=(16,6))\n",
    "plt.title(\"Distribution of mean values per row in the train and test set\")\n",
    "sns.distplot(means_train,color=\"green\", kde=True,bins=100, label='train')\n",
    "sns.distplot(means_test,color=\"red\", kde=True,bins=100, label='test')\n",
    "plt.legend()\n",
    "plt.show()\n",
    "\n",
    "\n",
    "    "
   ]
  },
  {
   "cell_type": "code",
   "execution_count": 12,
   "metadata": {},
   "outputs": [
    {
     "data": {
      "image/png": "[encoded data removed]",
      "text/plain": [
       "<Figure size 1152x432 with 1 Axes>"
      ]
     },
     "metadata": {
      "needs_background": "light"
     },
     "output_type": "display_data"
    }
   ],
   "source": [
    "plt.figure(figsize=(16,6))\n",
    "plt.title(\"Distribution of std values per row in the train and test set\")\n",
    "sns.distplot(stds_train,color=\"green\", kde=True,bins=100, label='train')\n",
    "sns.distplot(stds_test,color=\"red\", kde=True,bins=100, label='test')\n",
    "plt.legend()\n",
    "plt.show()"
   ]
  },
  {
   "cell_type": "markdown",
   "metadata": {},
   "source": [
    "Mean value is at 0 for both train and test dataset. Standard deviation is at 1.04 also for both. Not ideal, but biased in similar way. Possible improvement: tune settings for normalisation to bring std to 1.0?"
   ]
  },
  {
   "cell_type": "markdown",
   "metadata": {},
   "source": [
    "## Store datasets\n",
    "For later usage, store X_train_std, Y_train_resamp for training and X_test_std to create submition"
   ]
  },
  {
   "cell_type": "code",
   "execution_count": 13,
   "metadata": {},
   "outputs": [],
   "source": [
    "#X_train_std.tofile(\"X_train_std\")\n",
    "#Y_train_resamp.tofile(\"Y_train_resamp\")\n",
    "#X_test_std.tofile(\"X_test_std\")\n",
    "np.save(\"datasets/X_train_samp_std\", X_train_std)\n",
    "np.save(\"datasets/Y_train_samp\", Y_train_samp)\n",
    "\n",
    "#np.save(\"X_train_resamp_std\", X_train_resamp_std)\n",
    "#np.save(\"Y_train_resamp\", Y_train_resamp)\n",
    "\n",
    "np.save(\"datasets/X_val_samp_std\",X_val_std)\n",
    "np.save(\"datasets/Y_val_samp\",Y_val_samp)\n",
    "\n",
    "np.save(\"datasets/X_test_std\", X_test_std)\n",
    "\n",
    "#np.save(\"X_train_orig_std\", X_train_orig_std)\n",
    "#np.save(\"Y_train_orig\", Y_train)\n",
    "\n",
    "\n",
    "#print (X_train_orig_std.shape)\n",
    "#print (X_train_std.shape)\n",
    "#print (Y_train_resamp.shape)\n",
    "#%ls\n",
    "#print(X_train_std)"
   ]
  },
  {
   "cell_type": "code",
   "execution_count": 14,
   "metadata": {},
   "outputs": [],
   "source": [
    "#X_train_std2 = np.fromfile(\"X_train_std\")\n",
    "#print(X_train_std2)"
   ]
  },
  {
   "cell_type": "markdown",
   "metadata": {},
   "source": [
    "## Conclusion, observations"
   ]
  },
  {
   "cell_type": "markdown",
   "metadata": {},
   "source": [
    "* dataset is balanced with over-sampling\n",
    "* drawback of re-sampling: more outliers appeared in dataset\n",
    "* Mean and standart deviations are normilised: Mean at 0, Std at 1.04"
   ]
  },
  {
   "cell_type": "code",
   "execution_count": 15,
   "metadata": {},
   "outputs": [
    {
     "data": {
      "text/plain": [
       "2520"
      ]
     },
     "execution_count": 15,
     "metadata": {},
     "output_type": "execute_result"
    }
   ],
   "source": [
    "35*72"
   ]
  },
  {
   "cell_type": "code",
   "execution_count": null,
   "metadata": {},
   "outputs": [],
   "source": []
  }
 ],
 "metadata": {
  "kernelspec": {
   "display_name": "Python 3",
   "language": "python",
   "name": "python3"
  },
  "language_info": {
   "codemirror_mode": {
    "name": "ipython",
    "version": 3
   },
   "file_extension": ".py",
   "mimetype": "text/x-python",
   "name": "python",
   "nbconvert_exporter": "python",
   "pygments_lexer": "ipython3",
   "version": "3.7.1"
  }
 },
 "nbformat": 4,
 "nbformat_minor": 2
}
