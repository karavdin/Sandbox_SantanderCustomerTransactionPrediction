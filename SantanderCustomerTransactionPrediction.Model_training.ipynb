{
 "cells": [
  {
   "cell_type": "markdown",
   "metadata": {},
   "source": [
    "# Part4: Model training"
   ]
  },
  {
   "cell_type": "markdown",
   "metadata": {},
   "source": [
    "data is taken from https://www.kaggle.com/c/santander-customer-transaction-prediction\n",
    "\n",
    "In this challenge, Santander invites Kagglers to help them identify which customers will make a specific transaction in the future, irrespective of the amount of money transacted. The data provided for this competition has the same structure as the real data they have available to solve this problem.\n",
    "\n",
    "The data is anonimyzed, each row containing 200 numerical values identified just with a number.\n",
    "\n",
    "In this notebook we train different ML models, which are defined in another notebook"
   ]
  },
  {
   "cell_type": "markdown",
   "metadata": {},
   "source": [
    "## Load packages"
   ]
  },
  {
   "cell_type": "code",
   "execution_count": 1,
   "metadata": {},
   "outputs": [
    {
     "name": "stderr",
     "output_type": "stream",
     "text": [
      "Using TensorFlow backend.\n"
     ]
    }
   ],
   "source": [
    "import numpy as np\n",
    "import pandas as pd\n",
    "from time import time\n",
    "from sklearn import metrics\n",
    "from sklearn.metrics import mean_squared_error\n",
    "from sklearn.metrics import roc_auc_score, roc_curve\n",
    "from sklearn.model_selection import StratifiedKFold\n",
    "from sklearn.preprocessing import StandardScaler\n",
    "from sklearn.model_selection import train_test_split\n",
    "from keras.layers import Dense, Activation, Dropout\n",
    "from keras.models import Sequential\n",
    "from keras import regularizers\n",
    "from keras.constraints import max_norm\n",
    "from keras.wrappers.scikit_learn import KerasClassifier\n",
    "from keras.callbacks import TensorBoard\n",
    "from keras.callbacks import EarlyStopping\n",
    "from keras.callbacks import ReduceLROnPlateau\n",
    "import matplotlib.pyplot as plt\n",
    "\n",
    "from sklearn.metrics import roc_auc_score, roc_curve\n",
    "from sklearn.metrics import balanced_accuracy_score\n",
    "from sklearn.model_selection import GridSearchCV"
   ]
  },
  {
   "cell_type": "markdown",
   "metadata": {},
   "source": [
    "# Add function to use yellowbrick visualisation tools"
   ]
  },
  {
   "cell_type": "code",
   "execution_count": 2,
   "metadata": {},
   "outputs": [],
   "source": [
    "##Taken from \n",
    "##https://towardsdatascience.com/evaluating-keras-neural-network-performance-using-yellowbrick-visualizations-ad65543f3174\n",
    "## FixME: doesn't work out of box :(\n",
    "#import numpy as np\n",
    "#from keras.wrappers.scikit_learn import KerasClassifier\n",
    "#from sklearn.base import BaseEstimator\n",
    "\n",
    "#class KerasBatchClassifier(KerasClassifier, BaseEstimator):\n",
    "#    def __init__(self, model, **kwargs):\n",
    "#        super().__init__(model)\n",
    "#        self.fit_kwargs = kwargs\n",
    "#        self._estimator_type = 'classifier'\n",
    "#\n",
    "#    def fit(self, *args, **kwargs):\n",
    "#        # taken from keras.wrappers.scikit_learn.KerasClassifier.fit\n",
    "#        self.model = self.build_fn(**self.filter_sk_params(self.build_fn))\n",
    "#        \n",
    "#        self.classes_ = np.array(range(len(self.fit_kwargs['train_generator'].class_indices)))\n",
    "#        self.__history = self.model.fit_generator(\n",
    "#            self.fit_kwargs.pop('train_generator'), \n",
    "#            **self.fit_kwargs\n",
    "#        )"
   ]
  },
  {
   "cell_type": "markdown",
   "metadata": {},
   "source": [
    "## Load data"
   ]
  },
  {
   "cell_type": "code",
   "execution_count": 3,
   "metadata": {},
   "outputs": [
    {
     "name": "stdout",
     "output_type": "stream",
     "text": [
      "(140000, 195)\n",
      "(140000,)\n"
     ]
    }
   ],
   "source": [
    "#alternative with resampling minor class\n",
    "#X_train = np.load(\"X_train_resamp_std.npy\")\n",
    "#Y_train = np.load(\"Y_train_resamp.npy\")\n",
    "\n",
    "#original sample with split to test and validation\n",
    "X_train = np.load(\"datasets/X_train_samp_std.npy\")\n",
    "Y_train = np.load(\"datasets/Y_train_samp.npy\")\n",
    "\n",
    "\n",
    "\n",
    "#X_test = np.load(\"X_test_std.npy\")\n",
    "\n",
    "print (X_train.shape)\n",
    "print (Y_train.shape)\n",
    "#X_test = np.fromfile(\"X_test_std\")"
   ]
  },
  {
   "cell_type": "code",
   "execution_count": 4,
   "metadata": {},
   "outputs": [],
   "source": [
    "#Split into train and validation datasets\n",
    "X_train_NN ,X_val_NN ,Y_train_NN , Y_val_NN = train_test_split(X_train,Y_train,test_size=0.30,random_state=45)"
   ]
  },
  {
   "cell_type": "markdown",
   "metadata": {},
   "source": [
    "# Monitoring of training and performance\n",
    "Plot functions for monitoring of training to exclude underfitting and overfitting"
   ]
  },
  {
   "cell_type": "code",
   "execution_count": 5,
   "metadata": {},
   "outputs": [],
   "source": [
    "## Plot training & validation loss values\n",
    "def plot_loss(history):\n",
    "    plt.plot(history.history['loss'])\n",
    "    plt.plot(history.history['val_loss'])\n",
    "    plt.title('Model loss')\n",
    "    plt.ylabel('Loss')\n",
    "    plt.xlabel('Epoch')\n",
    "    plt.legend(['Train', 'Test'], loc='upper left')\n",
    "    plt.show()\n",
    "\n",
    "## Plot training & validation acc values\n",
    "def plot_acc(history):\n",
    "    plt.plot(history.history['acc'])\n",
    "    plt.plot(history.history['val_acc'])\n",
    "    plt.title('Model acc')\n",
    "    plt.ylabel('Auc')\n",
    "    plt.xlabel('Epoch')\n",
    "    plt.legend(['Train', 'Test'], loc='upper left')\n",
    "    plt.show()\n",
    "    \n",
    "## Plot training & validation auc values\n",
    "def plot_auc(history):\n",
    "    plt.plot(history.history['auc'])\n",
    "    plt.plot(history.history['val_auc'])\n",
    "    plt.title('Model auc')\n",
    "    plt.ylabel('Auc')\n",
    "    plt.xlabel('Epoch')\n",
    "    plt.legend(['Train', 'Test'], loc='upper left')\n",
    "    plt.show()"
   ]
  },
  {
   "cell_type": "code",
   "execution_count": 6,
   "metadata": {},
   "outputs": [],
   "source": [
    "#set time stamp to be used in the name of the model\n",
    "#import time\n",
    "name_ext = str(time())"
   ]
  },
  {
   "cell_type": "markdown",
   "metadata": {},
   "source": [
    "## Load models"
   ]
  },
  {
   "cell_type": "code",
   "execution_count": 7,
   "metadata": {},
   "outputs": [],
   "source": [
    "%run SantanderCustomerTransactionPrediction.Model_definition.ipynb"
   ]
  },
  {
   "cell_type": "markdown",
   "metadata": {},
   "source": [
    "## Train models"
   ]
  },
  {
   "cell_type": "markdown",
   "metadata": {},
   "source": [
    "## DNN"
   ]
  },
  {
   "cell_type": "code",
   "execution_count": 8,
   "metadata": {},
   "outputs": [
    {
     "data": {
      "text/plain": [
       "8192"
      ]
     },
     "execution_count": 8,
     "metadata": {},
     "output_type": "execute_result"
    }
   ],
   "source": [
    "2*4*512\n",
    "4*4*512"
   ]
  },
  {
   "cell_type": "code",
   "execution_count": 9,
   "metadata": {},
   "outputs": [
    {
     "name": "stdout",
     "output_type": "stream",
     "text": [
      "WARNING:tensorflow:From /home/anastasia/anaconda3/lib/python3.7/site-packages/tensorflow/python/framework/op_def_library.py:263: colocate_with (from tensorflow.python.framework.ops) is deprecated and will be removed in a future version.\n",
      "Instructions for updating:\n",
      "Colocations handled automatically by placer.\n",
      "WARNING:tensorflow:From /home/anastasia/anaconda3/lib/python3.7/site-packages/keras/backend/tensorflow_backend.py:3445: calling dropout (from tensorflow.python.ops.nn_ops) with keep_prob is deprecated and will be removed in a future version.\n",
      "Instructions for updating:\n",
      "Please use `rate` instead of `keep_prob`. Rate should be set to `rate = 1 - keep_prob`.\n",
      "WARNING:tensorflow:From /home/anastasia/anaconda3/lib/python3.7/site-packages/tensorflow/python/ops/metrics_impl.py:526: to_float (from tensorflow.python.ops.math_ops) is deprecated and will be removed in a future version.\n",
      "Instructions for updating:\n",
      "Use tf.cast instead.\n",
      "WARNING:tensorflow:From /home/anastasia/anaconda3/lib/python3.7/site-packages/tensorflow/python/ops/metrics_impl.py:788: div (from tensorflow.python.ops.math_ops) is deprecated and will be removed in a future version.\n",
      "Instructions for updating:\n",
      "Deprecated in favor of operator or tf.math.divide.\n",
      "_________________________________________________________________\n",
      "Layer (type)                 Output Shape              Param #   \n",
      "=================================================================\n",
      "dense_1 (Dense)              (None, 64)                12544     \n",
      "_________________________________________________________________\n",
      "batch_normalization_1 (Batch (None, 64)                256       \n",
      "_________________________________________________________________\n",
      "dropout_1 (Dropout)          (None, 64)                0         \n",
      "_________________________________________________________________\n",
      "dense_2 (Dense)              (None, 64)                4160      \n",
      "_________________________________________________________________\n",
      "batch_normalization_2 (Batch (None, 64)                256       \n",
      "_________________________________________________________________\n",
      "dense_3 (Dense)              (None, 1)                 65        \n",
      "=================================================================\n",
      "Total params: 17,281\n",
      "Trainable params: 17,025\n",
      "Non-trainable params: 256\n",
      "_________________________________________________________________\n",
      "WARNING:tensorflow:From /home/anastasia/anaconda3/lib/python3.7/site-packages/tensorflow/python/ops/math_ops.py:3066: to_int32 (from tensorflow.python.ops.math_ops) is deprecated and will be removed in a future version.\n",
      "Instructions for updating:\n",
      "Use tf.cast instead.\n"
     ]
    }
   ],
   "source": [
    "#Train Keras\n",
    "##model_NN_32 = build_NN_32(X_train_NN)\n",
    "tensorboard = TensorBoard(log_dir=\"logs/{}\".format(time()),histogram_freq=50, write_graph=True, write_images=True)\n",
    "earlyStop = EarlyStopping(monitor='val_loss', min_delta=1e-8,patience=200,restore_best_weights=True)\n",
    "reduceLR = ReduceLROnPlateau(monitor='val_loss', factor=0.1, patience=10, verbose=0, mode='auto', min_delta=0.001, cooldown=0, min_lr=0)\n",
    "#earlyStop = EarlyStopping(monitor='loss', min_delta=1e-5,patience=50,restore_best_weights=True)\n",
    "class_weight = {0: 1.,1: 5.}\n",
    "model_NN_32 = build_NN_test(X_train_NN)\n",
    "#model_NN_32 = build_NN_LSTM(X_train_NN)\n",
    "epochs=1001\n",
    "history_NN_32 = model_NN_32.fit(X_train_NN,Y_train_NN,shuffle=True,class_weight=class_weight, verbose=0,callbacks=[tensorboard,earlyStop,reduceLR],validation_data = (X_val_NN,Y_val_NN),epochs=epochs,batch_size=4*4*512)\n",
    "#history_NN_32 = model_NN_32.fit(X_train_NN,Y_train_NN,shuffle=True,class_weight=class_weight, verbose=0,callbacks=[tensorboard],validation_data = (X_val_NN,Y_val_NN),epochs=epochs,batch_size=4*4*512)"
   ]
  },
  {
   "cell_type": "code",
   "execution_count": 10,
   "metadata": {},
   "outputs": [],
   "source": [
    "#model_NN_32.layers[0].get_weights()\n",
    "\n"
   ]
  },
  {
   "cell_type": "code",
   "execution_count": 11,
   "metadata": {},
   "outputs": [],
   "source": [
    "##Plot keras model\n",
    "#from keras.utils import plot_model\n",
    "#plot_model(model_NN_32, show_shapes=True, to_file=\"model_NN_32_ts\"+name_ext+\".png\")"
   ]
  },
  {
   "cell_type": "code",
   "execution_count": 12,
   "metadata": {},
   "outputs": [],
   "source": [
    "###Train keras with batch skikit-learn wrapper, FixME: doesn't work due to missing train_generator\n",
    "###model_NN_32 = KerasBatchClassifier(model=build_NN_test_wrap(X_train_NN), train_generator=train_generator, validation_data = (X_val_NN,Y_val_NN),epochs=30,batch_size=4*512, verbose=0)\n",
    "###history_NN_32 = model_NN_32.fit(X_train_NN,Y_train_NN)\n",
    "\n",
    "###Train keras with standart skikit-learn wrapper\n",
    "##model_NN_32 = KerasClassifier(build_NN_test_wrap(X_train_NN),validation_data = (X_val_NN,Y_val_NN),epochs=3,batch_size=4*512, verbose=0)\n",
    "#model_NN_32 = KerasClassifier(build_NN_test_wrap(X_train_NN))\n",
    "## define the grid search parameters\n",
    "#batch_size = [1, 2]\n",
    "#epochs = [1,2]\n",
    "#param_grid = dict(batch_size=batch_size, epochs=epochs)\n",
    "#grid = GridSearchCV(estimator=model_NN_32, param_grid=param_grid, n_jobs=3)\n",
    "#grid_result = grid.fit(X_train_NN,Y_train_NN)\n",
    "## summarize results\n",
    "#print(\"Best: %f using %s\" % (grid_result.best_score_, grid_result.best_params_))\n",
    "#means = grid_result.cv_results_['mean_test_score']\n",
    "#stds = grid_result.cv_results_['std_test_score']\n",
    "#params = grid_result.cv_results_['params']\n",
    "#for mean, stdev, param in zip(means, stds, params):\n",
    "#    print(\"%f (%f) with: %r\" % (mean, stdev, param))\n",
    "##history_NN_32 = model_NN_32.fit(X_train_NN,Y_train_NN)\n",
    "#history_NN_32 = grid_result"
   ]
  },
  {
   "cell_type": "code",
   "execution_count": 13,
   "metadata": {
    "scrolled": true
   },
   "outputs": [
    {
     "data": {
      "image/png": "[encoded data removed]",
      "text/plain": [
       "<Figure size 432x288 with 1 Axes>"
      ]
     },
     "metadata": {
      "needs_background": "light"
     },
     "output_type": "display_data"
    },
    {
     "data": {
      "image/png": "[encoded data removed]",
      "text/plain": [
       "<Figure size 432x288 with 1 Axes>"
      ]
     },
     "metadata": {
      "needs_background": "light"
     },
     "output_type": "display_data"
    }
   ],
   "source": [
    "plot_loss(history_NN_32)\n",
    "#plot_acc(history_NN_32)\n",
    "plot_auc(history_NN_32)"
   ]
  },
  {
   "cell_type": "markdown",
   "metadata": {},
   "source": [
    "## Save model"
   ]
  },
  {
   "cell_type": "code",
   "execution_count": 14,
   "metadata": {},
   "outputs": [
    {
     "name": "stdout",
     "output_type": "stream",
     "text": [
      "Saved model to disk\n",
      "name_ext = ' 1554876627.8983727 '\n"
     ]
    }
   ],
   "source": [
    "# serialize model to JSON\n",
    "model_NN_32_json = model_NN_32.to_json()\n",
    "with open(\"model_NN_32_ts\"+name_ext+\".json\", \"w\") as json_file:\n",
    "    json_file.write(model_NN_32_json)\n",
    "# serialize weights to HDF5\n",
    "model_NN_32.save_weights(\"model_NN_32_ts\"+name_ext+\".h5\")\n",
    "print(\"Saved model to disk\")\n",
    "print(\"name_ext = '\",name_ext,\"'\")\n",
    "#!ls -1t | head -5"
   ]
  },
  {
   "cell_type": "markdown",
   "metadata": {},
   "source": [
    "## Conclusion, observations"
   ]
  },
  {
   "cell_type": "markdown",
   "metadata": {},
   "source": [
    " * NN with X input layers and batch size 4*512 shows good performance already with Y epoch (val_acc: ZZZ)\n"
   ]
  },
  {
   "cell_type": "code",
   "execution_count": null,
   "metadata": {},
   "outputs": [],
   "source": []
  },
  {
   "cell_type": "code",
   "execution_count": null,
   "metadata": {},
   "outputs": [],
   "source": []
  },
  {
   "cell_type": "code",
   "execution_count": null,
   "metadata": {},
   "outputs": [],
   "source": []
  },
  {
   "cell_type": "code",
   "execution_count": null,
   "metadata": {},
   "outputs": [],
   "source": []
  }
 ],
 "metadata": {
  "kernelspec": {
   "display_name": "Python 3",
   "language": "python",
   "name": "python3"
  },
  "language_info": {
   "codemirror_mode": {
    "name": "ipython",
    "version": 3
   },
   "file_extension": ".py",
   "mimetype": "text/x-python",
   "name": "python",
   "nbconvert_exporter": "python",
   "pygments_lexer": "ipython3",
   "version": "3.7.1"
  }
 },
 "nbformat": 4,
 "nbformat_minor": 2
}
