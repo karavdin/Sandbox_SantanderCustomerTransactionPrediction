{
 "cells": [
  {
   "cell_type": "markdown",
   "metadata": {},
   "source": [
    "# Part4: Model training"
   ]
  },
  {
   "cell_type": "markdown",
   "metadata": {},
   "source": [
    "data is taken from https://www.kaggle.com/c/santander-customer-transaction-prediction\n",
    "\n",
    "In this challenge, Santander invites Kagglers to help them identify which customers will make a specific transaction in the future, irrespective of the amount of money transacted. The data provided for this competition has the same structure as the real data they have available to solve this problem.\n",
    "\n",
    "The data is anonimyzed, each row containing 200 numerical values identified just with a number.\n",
    "\n",
    "In this notebook we train different ML models, which are defined in another notebook"
   ]
  },
  {
   "cell_type": "markdown",
   "metadata": {},
   "source": [
    "## Load packages"
   ]
  },
  {
   "cell_type": "code",
   "execution_count": 1,
   "metadata": {},
   "outputs": [
    {
     "name": "stderr",
     "output_type": "stream",
     "text": [
      "Using TensorFlow backend.\n"
     ]
    }
   ],
   "source": [
    "import numpy as np\n",
    "import pandas as pd\n",
    "from sklearn import metrics\n",
    "from sklearn.metrics import mean_squared_error\n",
    "from sklearn.metrics import roc_auc_score, roc_curve\n",
    "from sklearn.model_selection import StratifiedKFold\n",
    "from sklearn.preprocessing import StandardScaler\n",
    "from sklearn.model_selection import train_test_split\n",
    "from keras.layers import Dense, Activation, Dropout\n",
    "from keras.models import Sequential\n",
    "from keras import regularizers\n",
    "from keras.constraints import max_norm\n",
    "import matplotlib.pyplot as plt\n",
    "\n",
    "from sklearn.metrics import roc_auc_score, roc_curve\n",
    "from sklearn.metrics import balanced_accuracy_score"
   ]
  },
  {
   "cell_type": "markdown",
   "metadata": {},
   "source": [
    "## Load data"
   ]
  },
  {
   "cell_type": "code",
   "execution_count": 2,
   "metadata": {},
   "outputs": [
    {
     "name": "stdout",
     "output_type": "stream",
     "text": [
      "(251818, 200)\n",
      "(251818,)\n"
     ]
    }
   ],
   "source": [
    "X_train = np.load(\"X_train_resamp_std.npy\")\n",
    "Y_train = np.load(\"Y_train_resamp.npy\")\n",
    "\n",
    "#X_test = np.load(\"X_test_std.npy\")\n",
    "\n",
    "print (X_train.shape)\n",
    "print (Y_train.shape)\n",
    "#X_test = np.fromfile(\"X_test_std\")"
   ]
  },
  {
   "cell_type": "code",
   "execution_count": 3,
   "metadata": {},
   "outputs": [],
   "source": [
    "#Split into train and validation datasets\n",
    "X_train_NN ,X_val_NN ,Y_train_NN , Y_val_NN = train_test_split(X_train,Y_train,test_size=0.30,random_state=45)"
   ]
  },
  {
   "cell_type": "markdown",
   "metadata": {},
   "source": [
    "# Monitoring of training and performance\n",
    "Plot functions for monitoring of training to exclude underfitting and overfitting"
   ]
  },
  {
   "cell_type": "code",
   "execution_count": 4,
   "metadata": {},
   "outputs": [],
   "source": [
    "## Plot training & validation loss values\n",
    "def plot_loss(history):\n",
    "    plt.plot(history.history['loss'])\n",
    "    plt.plot(history.history['val_loss'])\n",
    "    plt.title('Model loss')\n",
    "    plt.ylabel('Loss')\n",
    "    plt.xlabel('Epoch')\n",
    "    plt.legend(['Train', 'Test'], loc='upper left')\n",
    "    plt.show()\n",
    "\n",
    "## Plot training & validation acc values\n",
    "def plot_acc(history):\n",
    "    plt.plot(history.history['acc'])\n",
    "    plt.plot(history.history['val_acc'])\n",
    "    plt.title('Model acc')\n",
    "    plt.ylabel('Auc')\n",
    "    plt.xlabel('Epoch')\n",
    "    plt.legend(['Train', 'Test'], loc='upper left')\n",
    "    plt.show()\n",
    "    \n",
    "## Plot training & validation auc values\n",
    "def plot_auc(history):\n",
    "    plt.plot(history.history['auc'])\n",
    "    plt.plot(history.history['val_auc'])\n",
    "    plt.title('Model auc')\n",
    "    plt.ylabel('Auc')\n",
    "    plt.xlabel('Epoch')\n",
    "    plt.legend(['Train', 'Test'], loc='upper left')\n",
    "    plt.show()"
   ]
  },
  {
   "cell_type": "code",
   "execution_count": null,
   "metadata": {},
   "outputs": [],
   "source": []
  },
  {
   "cell_type": "markdown",
   "metadata": {},
   "source": [
    "## Load models"
   ]
  },
  {
   "cell_type": "code",
   "execution_count": 5,
   "metadata": {},
   "outputs": [],
   "source": [
    "%run SantanderCustomerTransactionPrediction.Model_definition.ipynb"
   ]
  },
  {
   "cell_type": "markdown",
   "metadata": {},
   "source": [
    "## Train models"
   ]
  },
  {
   "cell_type": "markdown",
   "metadata": {},
   "source": [
    "## DNN"
   ]
  },
  {
   "cell_type": "code",
   "execution_count": 6,
   "metadata": {},
   "outputs": [
    {
     "data": {
      "text/plain": [
       "16384"
      ]
     },
     "execution_count": 6,
     "metadata": {},
     "output_type": "execute_result"
    }
   ],
   "source": [
    "2*4*4*512"
   ]
  },
  {
   "cell_type": "code",
   "execution_count": 7,
   "metadata": {},
   "outputs": [
    {
     "name": "stdout",
     "output_type": "stream",
     "text": [
      "WARNING:tensorflow:From /home/anastasia/anaconda3/lib/python3.7/site-packages/tensorflow/python/framework/op_def_library.py:263: colocate_with (from tensorflow.python.framework.ops) is deprecated and will be removed in a future version.\n",
      "Instructions for updating:\n",
      "Colocations handled automatically by placer.\n",
      "WARNING:tensorflow:From /home/anastasia/anaconda3/lib/python3.7/site-packages/keras/backend/tensorflow_backend.py:3445: calling dropout (from tensorflow.python.ops.nn_ops) with keep_prob is deprecated and will be removed in a future version.\n",
      "Instructions for updating:\n",
      "Please use `rate` instead of `keep_prob`. Rate should be set to `rate = 1 - keep_prob`.\n",
      "WARNING:tensorflow:From /home/anastasia/anaconda3/lib/python3.7/site-packages/tensorflow/python/ops/metrics_impl.py:526: to_float (from tensorflow.python.ops.math_ops) is deprecated and will be removed in a future version.\n",
      "Instructions for updating:\n",
      "Use tf.cast instead.\n",
      "WARNING:tensorflow:From /home/anastasia/anaconda3/lib/python3.7/site-packages/tensorflow/python/ops/metrics_impl.py:788: div (from tensorflow.python.ops.math_ops) is deprecated and will be removed in a future version.\n",
      "Instructions for updating:\n",
      "Deprecated in favor of operator or tf.math.divide.\n",
      "_________________________________________________________________\n",
      "Layer (type)                 Output Shape              Param #   \n",
      "=================================================================\n",
      "dense_1 (Dense)              (None, 32)                6432      \n",
      "_________________________________________________________________\n",
      "dropout_1 (Dropout)          (None, 32)                0         \n",
      "_________________________________________________________________\n",
      "dense_2 (Dense)              (None, 16)                528       \n",
      "_________________________________________________________________\n",
      "dense_3 (Dense)              (None, 1)                 17        \n",
      "=================================================================\n",
      "Total params: 6,977\n",
      "Trainable params: 6,977\n",
      "Non-trainable params: 0\n",
      "_________________________________________________________________\n",
      "WARNING:tensorflow:From /home/anastasia/anaconda3/lib/python3.7/site-packages/tensorflow/python/ops/math_ops.py:3066: to_int32 (from tensorflow.python.ops.math_ops) is deprecated and will be removed in a future version.\n",
      "Instructions for updating:\n",
      "Use tf.cast instead.\n",
      "Train on 176272 samples, validate on 75546 samples\n",
      "Epoch 1/100\n",
      "176272/176272 [==============================] - 1s 8us/step - loss: 0.9367 - acc: 0.5568 - auc: 0.5366 - val_loss: 0.8754 - val_acc: 0.6372 - val_auc: 0.6002\n",
      "Epoch 2/100\n",
      "176272/176272 [==============================] - 1s 5us/step - loss: 0.8504 - acc: 0.6740 - auc: 0.6396 - val_loss: 0.8055 - val_acc: 0.7260 - val_auc: 0.6784\n",
      "Epoch 3/100\n",
      "176272/176272 [==============================] - 1s 5us/step - loss: 0.7859 - acc: 0.7411 - auc: 0.7076 - val_loss: 0.7483 - val_acc: 0.7686 - val_auc: 0.7335\n",
      "Epoch 4/100\n",
      "176272/176272 [==============================] - 1s 5us/step - loss: 0.7329 - acc: 0.7742 - auc: 0.7534 - val_loss: 0.7013 - val_acc: 0.7869 - val_auc: 0.7703\n",
      "Epoch 5/100\n",
      "176272/176272 [==============================] - 1s 5us/step - loss: 0.6904 - acc: 0.7903 - auc: 0.7834 - val_loss: 0.6647 - val_acc: 0.7957 - val_auc: 0.7943\n",
      "Epoch 6/100\n",
      "176272/176272 [==============================] - 1s 5us/step - loss: 0.6572 - acc: 0.7976 - auc: 0.8031 - val_loss: 0.6361 - val_acc: 0.7994 - val_auc: 0.8105\n",
      "Epoch 7/100\n",
      "176272/176272 [==============================] - 1s 5us/step - loss: 0.6310 - acc: 0.8016 - auc: 0.8166 - val_loss: 0.6132 - val_acc: 0.8028 - val_auc: 0.8219\n",
      "Epoch 8/100\n",
      "176272/176272 [==============================] - 1s 5us/step - loss: 0.6096 - acc: 0.8051 - auc: 0.8265 - val_loss: 0.5949 - val_acc: 0.8048 - val_auc: 0.8306\n",
      "Epoch 9/100\n",
      "176272/176272 [==============================] - 1s 5us/step - loss: 0.5925 - acc: 0.8076 - auc: 0.8341 - val_loss: 0.5802 - val_acc: 0.8068 - val_auc: 0.8373\n",
      "Epoch 10/100\n",
      "176272/176272 [==============================] - 1s 5us/step - loss: 0.5786 - acc: 0.8107 - auc: 0.8401 - val_loss: 0.5684 - val_acc: 0.8085 - val_auc: 0.8427\n",
      "Epoch 11/100\n",
      "176272/176272 [==============================] - 1s 5us/step - loss: 0.5673 - acc: 0.8125 - auc: 0.8450 - val_loss: 0.5583 - val_acc: 0.8104 - val_auc: 0.8471\n",
      "Epoch 12/100\n",
      "176272/176272 [==============================] - 1s 5us/step - loss: 0.5575 - acc: 0.8150 - auc: 0.8491 - val_loss: 0.5496 - val_acc: 0.8124 - val_auc: 0.8509\n",
      "Epoch 13/100\n",
      "176272/176272 [==============================] - 1s 5us/step - loss: 0.5489 - acc: 0.8165 - auc: 0.8526 - val_loss: 0.5420 - val_acc: 0.8137 - val_auc: 0.8542\n",
      "Epoch 14/100\n",
      "176272/176272 [==============================] - 1s 5us/step - loss: 0.5417 - acc: 0.8178 - auc: 0.8556 - val_loss: 0.5351 - val_acc: 0.8152 - val_auc: 0.8570\n",
      "Epoch 15/100\n",
      "176272/176272 [==============================] - 1s 6us/step - loss: 0.5345 - acc: 0.8196 - auc: 0.8583 - val_loss: 0.5288 - val_acc: 0.8166 - val_auc: 0.8595\n",
      "Epoch 16/100\n",
      "176272/176272 [==============================] - 1s 5us/step - loss: 0.5281 - acc: 0.8209 - auc: 0.8607 - val_loss: 0.5228 - val_acc: 0.8185 - val_auc: 0.8618\n",
      "Epoch 17/100\n",
      "176272/176272 [==============================] - 1s 5us/step - loss: 0.5223 - acc: 0.8228 - auc: 0.8629 - val_loss: 0.5173 - val_acc: 0.8201 - val_auc: 0.8639\n",
      "Epoch 18/100\n",
      "176272/176272 [==============================] - 1s 5us/step - loss: 0.5164 - acc: 0.8245 - auc: 0.8650 - val_loss: 0.5121 - val_acc: 0.8217 - val_auc: 0.8659\n",
      "Epoch 19/100\n",
      "176272/176272 [==============================] - 1s 5us/step - loss: 0.5112 - acc: 0.8265 - auc: 0.8669 - val_loss: 0.5071 - val_acc: 0.8239 - val_auc: 0.8677\n",
      "Epoch 20/100\n",
      "176272/176272 [==============================] - 1s 5us/step - loss: 0.5065 - acc: 0.8280 - auc: 0.8686 - val_loss: 0.5024 - val_acc: 0.8252 - val_auc: 0.8695\n",
      "Epoch 21/100\n",
      "176272/176272 [==============================] - 1s 5us/step - loss: 0.5013 - acc: 0.8302 - auc: 0.8704 - val_loss: 0.4981 - val_acc: 0.8272 - val_auc: 0.8712\n",
      "Epoch 22/100\n",
      "176272/176272 [==============================] - 1s 5us/step - loss: 0.4969 - acc: 0.8322 - auc: 0.8720 - val_loss: 0.4937 - val_acc: 0.8299 - val_auc: 0.8728\n",
      "Epoch 23/100\n",
      "176272/176272 [==============================] - 1s 5us/step - loss: 0.4924 - acc: 0.8335 - auc: 0.8736 - val_loss: 0.4897 - val_acc: 0.8307 - val_auc: 0.8744\n",
      "Epoch 24/100\n",
      "176272/176272 [==============================] - 1s 6us/step - loss: 0.4874 - acc: 0.8365 - auc: 0.8751 - val_loss: 0.4856 - val_acc: 0.8328 - val_auc: 0.8759\n",
      "Epoch 25/100\n",
      "176272/176272 [==============================] - 1s 5us/step - loss: 0.4835 - acc: 0.8383 - auc: 0.8767 - val_loss: 0.4816 - val_acc: 0.8347 - val_auc: 0.8774\n",
      "Epoch 26/100\n",
      "176272/176272 [==============================] - 1s 5us/step - loss: 0.4799 - acc: 0.8399 - auc: 0.8781 - val_loss: 0.4780 - val_acc: 0.8368 - val_auc: 0.8788\n",
      "Epoch 27/100\n",
      "176272/176272 [==============================] - 1s 5us/step - loss: 0.4755 - acc: 0.8416 - auc: 0.8795 - val_loss: 0.4742 - val_acc: 0.8392 - val_auc: 0.8802\n",
      "Epoch 28/100\n",
      "176272/176272 [==============================] - 1s 5us/step - loss: 0.4715 - acc: 0.8437 - auc: 0.8809 - val_loss: 0.4706 - val_acc: 0.8407 - val_auc: 0.8816\n",
      "Epoch 29/100\n",
      "176272/176272 [==============================] - 1s 5us/step - loss: 0.4679 - acc: 0.8456 - auc: 0.8823 - val_loss: 0.4673 - val_acc: 0.8432 - val_auc: 0.8829\n",
      "Epoch 30/100\n",
      "176272/176272 [==============================] - 1s 5us/step - loss: 0.4641 - acc: 0.8474 - auc: 0.8836 - val_loss: 0.4638 - val_acc: 0.8446 - val_auc: 0.8842\n",
      "Epoch 31/100\n",
      "176272/176272 [==============================] - 1s 5us/step - loss: 0.4610 - acc: 0.8485 - auc: 0.8849 - val_loss: 0.4606 - val_acc: 0.8463 - val_auc: 0.8855\n",
      "Epoch 32/100\n",
      "176272/176272 [==============================] - 1s 5us/step - loss: 0.4571 - acc: 0.8506 - auc: 0.8861 - val_loss: 0.4575 - val_acc: 0.8475 - val_auc: 0.8867\n",
      "Epoch 33/100\n",
      "176272/176272 [==============================] - 1s 5us/step - loss: 0.4538 - acc: 0.8528 - auc: 0.8874 - val_loss: 0.4543 - val_acc: 0.8499 - val_auc: 0.8880\n",
      "Epoch 34/100\n",
      "176272/176272 [==============================] - 1s 5us/step - loss: 0.4506 - acc: 0.8533 - auc: 0.8886 - val_loss: 0.4513 - val_acc: 0.8512 - val_auc: 0.8891\n"
     ]
    },
    {
     "name": "stdout",
     "output_type": "stream",
     "text": [
      "Epoch 35/100\n",
      "176272/176272 [==============================] - 1s 4us/step - loss: 0.4473 - acc: 0.8551 - auc: 0.8897 - val_loss: 0.4486 - val_acc: 0.8517 - val_auc: 0.8903\n",
      "Epoch 36/100\n",
      "176272/176272 [==============================] - 1s 4us/step - loss: 0.4447 - acc: 0.8562 - auc: 0.8909 - val_loss: 0.4459 - val_acc: 0.8533 - val_auc: 0.8914\n",
      "Epoch 37/100\n",
      "176272/176272 [==============================] - 1s 4us/step - loss: 0.4419 - acc: 0.8575 - auc: 0.8919 - val_loss: 0.4432 - val_acc: 0.8543 - val_auc: 0.8925\n",
      "Epoch 38/100\n",
      "176272/176272 [==============================] - 1s 4us/step - loss: 0.4389 - acc: 0.8597 - auc: 0.8930 - val_loss: 0.4407 - val_acc: 0.8548 - val_auc: 0.8935\n",
      "Epoch 39/100\n",
      "176272/176272 [==============================] - 1s 4us/step - loss: 0.4357 - acc: 0.8601 - auc: 0.8940 - val_loss: 0.4381 - val_acc: 0.8566 - val_auc: 0.8945\n",
      "Epoch 40/100\n",
      "176272/176272 [==============================] - 1s 5us/step - loss: 0.4332 - acc: 0.8613 - auc: 0.8951 - val_loss: 0.4359 - val_acc: 0.8570 - val_auc: 0.8955\n",
      "Epoch 41/100\n",
      "176272/176272 [==============================] - 1s 4us/step - loss: 0.4308 - acc: 0.8627 - auc: 0.8960 - val_loss: 0.4336 - val_acc: 0.8579 - val_auc: 0.8965\n",
      "Epoch 42/100\n",
      "176272/176272 [==============================] - 1s 4us/step - loss: 0.4283 - acc: 0.8636 - auc: 0.8970 - val_loss: 0.4314 - val_acc: 0.8584 - val_auc: 0.8975\n",
      "Epoch 43/100\n",
      "176272/176272 [==============================] - 1s 4us/step - loss: 0.4254 - acc: 0.8648 - auc: 0.8979 - val_loss: 0.4293 - val_acc: 0.8600 - val_auc: 0.8984\n",
      "Epoch 44/100\n",
      "176272/176272 [==============================] - 1s 4us/step - loss: 0.4232 - acc: 0.8656 - auc: 0.8988 - val_loss: 0.4274 - val_acc: 0.8599 - val_auc: 0.8993\n",
      "Epoch 45/100\n",
      "176272/176272 [==============================] - 1s 4us/step - loss: 0.4213 - acc: 0.8664 - auc: 0.8997 - val_loss: 0.4253 - val_acc: 0.8609 - val_auc: 0.9001\n",
      "Epoch 46/100\n",
      "176272/176272 [==============================] - 1s 4us/step - loss: 0.4195 - acc: 0.8668 - auc: 0.9006 - val_loss: 0.4238 - val_acc: 0.8615 - val_auc: 0.9010\n",
      "Epoch 47/100\n",
      "176272/176272 [==============================] - 1s 5us/step - loss: 0.4188 - acc: 0.8658 - auc: 0.9014 - val_loss: 0.4224 - val_acc: 0.8617 - val_auc: 0.9017\n",
      "Epoch 48/100\n",
      "176272/176272 [==============================] - 1s 4us/step - loss: 0.4160 - acc: 0.8679 - auc: 0.9021 - val_loss: 0.4206 - val_acc: 0.8627 - val_auc: 0.9025\n",
      "Epoch 49/100\n",
      "176272/176272 [==============================] - 1s 4us/step - loss: 0.4142 - acc: 0.8682 - auc: 0.9029 - val_loss: 0.4194 - val_acc: 0.8627 - val_auc: 0.9033\n",
      "Epoch 50/100\n",
      "176272/176272 [==============================] - 1s 4us/step - loss: 0.4127 - acc: 0.8685 - auc: 0.9036 - val_loss: 0.4174 - val_acc: 0.8635 - val_auc: 0.9040\n",
      "Epoch 51/100\n",
      "176272/176272 [==============================] - 1s 4us/step - loss: 0.4114 - acc: 0.8692 - auc: 0.9044 - val_loss: 0.4162 - val_acc: 0.8639 - val_auc: 0.9047\n",
      "Epoch 52/100\n",
      "176272/176272 [==============================] - 1s 4us/step - loss: 0.4094 - acc: 0.8693 - auc: 0.9051 - val_loss: 0.4149 - val_acc: 0.8643 - val_auc: 0.9054\n",
      "Epoch 53/100\n",
      "176272/176272 [==============================] - 1s 4us/step - loss: 0.4078 - acc: 0.8705 - auc: 0.9057 - val_loss: 0.4139 - val_acc: 0.8650 - val_auc: 0.9060\n",
      "Epoch 54/100\n",
      "176272/176272 [==============================] - 1s 4us/step - loss: 0.4067 - acc: 0.8704 - auc: 0.9064 - val_loss: 0.4128 - val_acc: 0.8656 - val_auc: 0.9067\n",
      "Epoch 55/100\n",
      "176272/176272 [==============================] - 1s 4us/step - loss: 0.4051 - acc: 0.8710 - auc: 0.9070 - val_loss: 0.4116 - val_acc: 0.8648 - val_auc: 0.9073\n",
      "Epoch 56/100\n",
      "176272/176272 [==============================] - 1s 4us/step - loss: 0.4045 - acc: 0.8705 - auc: 0.9076 - val_loss: 0.4105 - val_acc: 0.8645 - val_auc: 0.9079\n",
      "Epoch 57/100\n",
      "176272/176272 [==============================] - 1s 5us/step - loss: 0.4031 - acc: 0.8710 - auc: 0.9082 - val_loss: 0.4095 - val_acc: 0.8655 - val_auc: 0.9085\n",
      "Epoch 58/100\n",
      "176272/176272 [==============================] - 1s 4us/step - loss: 0.4022 - acc: 0.8708 - auc: 0.9088 - val_loss: 0.4085 - val_acc: 0.8656 - val_auc: 0.9090\n",
      "Epoch 59/100\n",
      "176272/176272 [==============================] - 1s 5us/step - loss: 0.4005 - acc: 0.8717 - auc: 0.9093 - val_loss: 0.4075 - val_acc: 0.8655 - val_auc: 0.9096\n",
      "Epoch 60/100\n",
      "176272/176272 [==============================] - 1s 4us/step - loss: 0.3992 - acc: 0.8717 - auc: 0.9098 - val_loss: 0.4066 - val_acc: 0.8656 - val_auc: 0.9101\n",
      "Epoch 61/100\n",
      "176272/176272 [==============================] - 1s 4us/step - loss: 0.3981 - acc: 0.8718 - auc: 0.9104 - val_loss: 0.4058 - val_acc: 0.8659 - val_auc: 0.9106\n",
      "Epoch 62/100\n",
      "176272/176272 [==============================] - 1s 4us/step - loss: 0.3979 - acc: 0.8719 - auc: 0.9109 - val_loss: 0.4049 - val_acc: 0.8666 - val_auc: 0.9111\n",
      "Epoch 63/100\n",
      "176272/176272 [==============================] - 1s 4us/step - loss: 0.3960 - acc: 0.8730 - auc: 0.9113 - val_loss: 0.4042 - val_acc: 0.8659 - val_auc: 0.9116\n",
      "Epoch 64/100\n",
      "176272/176272 [==============================] - 1s 4us/step - loss: 0.3957 - acc: 0.8724 - auc: 0.9118 - val_loss: 0.4036 - val_acc: 0.8663 - val_auc: 0.9120\n",
      "Epoch 65/100\n",
      "176272/176272 [==============================] - 1s 4us/step - loss: 0.3946 - acc: 0.8720 - auc: 0.9123 - val_loss: 0.4027 - val_acc: 0.8657 - val_auc: 0.9125\n",
      "Epoch 66/100\n",
      "176272/176272 [==============================] - 1s 4us/step - loss: 0.3937 - acc: 0.8727 - auc: 0.9127 - val_loss: 0.4020 - val_acc: 0.8664 - val_auc: 0.9129\n",
      "Epoch 67/100\n",
      "176272/176272 [==============================] - 1s 4us/step - loss: 0.3925 - acc: 0.8732 - auc: 0.9131 - val_loss: 0.4011 - val_acc: 0.8667 - val_auc: 0.9134\n",
      "Epoch 68/100\n",
      "176272/176272 [==============================] - 1s 4us/step - loss: 0.3926 - acc: 0.8732 - auc: 0.9136 - val_loss: 0.4005 - val_acc: 0.8668 - val_auc: 0.9138\n",
      "Epoch 69/100\n",
      "176272/176272 [==============================] - 1s 5us/step - loss: 0.3917 - acc: 0.8729 - auc: 0.9140 - val_loss: 0.3998 - val_acc: 0.8673 - val_auc: 0.9142\n",
      "Epoch 70/100\n",
      "176272/176272 [==============================] - 1s 4us/step - loss: 0.3906 - acc: 0.8731 - auc: 0.9144 - val_loss: 0.3992 - val_acc: 0.8671 - val_auc: 0.9146\n",
      "Epoch 71/100\n",
      "176272/176272 [==============================] - 1s 4us/step - loss: 0.3898 - acc: 0.8735 - auc: 0.9147 - val_loss: 0.3986 - val_acc: 0.8671 - val_auc: 0.9149\n",
      "Epoch 72/100\n",
      "176272/176272 [==============================] - 1s 4us/step - loss: 0.3886 - acc: 0.8736 - auc: 0.9151 - val_loss: 0.3978 - val_acc: 0.8667 - val_auc: 0.9153\n",
      "Epoch 73/100\n",
      "176272/176272 [==============================] - 1s 5us/step - loss: 0.3882 - acc: 0.8741 - auc: 0.9155 - val_loss: 0.3971 - val_acc: 0.8680 - val_auc: 0.9157\n",
      "Epoch 74/100\n",
      "176272/176272 [==============================] - 1s 4us/step - loss: 0.3872 - acc: 0.8744 - auc: 0.9158 - val_loss: 0.3966 - val_acc: 0.8675 - val_auc: 0.9160\n",
      "Epoch 75/100\n",
      "176272/176272 [==============================] - 1s 4us/step - loss: 0.3865 - acc: 0.8743 - auc: 0.9162 - val_loss: 0.3959 - val_acc: 0.8671 - val_auc: 0.9164\n",
      "Epoch 76/100\n",
      "176272/176272 [==============================] - 1s 4us/step - loss: 0.3855 - acc: 0.8745 - auc: 0.9165 - val_loss: 0.3954 - val_acc: 0.8680 - val_auc: 0.9167\n",
      "Epoch 77/100\n",
      "176272/176272 [==============================] - 1s 4us/step - loss: 0.3854 - acc: 0.8740 - auc: 0.9169 - val_loss: 0.3950 - val_acc: 0.8675 - val_auc: 0.9170\n",
      "Epoch 78/100\n",
      "176272/176272 [==============================] - 1s 4us/step - loss: 0.3846 - acc: 0.8748 - auc: 0.9172 - val_loss: 0.3944 - val_acc: 0.8678 - val_auc: 0.9173\n",
      "Epoch 79/100\n",
      "176272/176272 [==============================] - 1s 4us/step - loss: 0.3839 - acc: 0.8755 - auc: 0.9175 - val_loss: 0.3940 - val_acc: 0.8674 - val_auc: 0.9176\n",
      "Epoch 80/100\n",
      "176272/176272 [==============================] - 1s 5us/step - loss: 0.3833 - acc: 0.8752 - auc: 0.9178 - val_loss: 0.3935 - val_acc: 0.8669 - val_auc: 0.9179\n",
      "Epoch 81/100\n",
      "176272/176272 [==============================] - 1s 4us/step - loss: 0.3821 - acc: 0.8753 - auc: 0.9181 - val_loss: 0.3929 - val_acc: 0.8680 - val_auc: 0.9182\n",
      "Epoch 82/100\n"
     ]
    },
    {
     "name": "stdout",
     "output_type": "stream",
     "text": [
      "176272/176272 [==============================] - 1s 4us/step - loss: 0.3819 - acc: 0.8754 - auc: 0.9184 - val_loss: 0.3923 - val_acc: 0.8676 - val_auc: 0.9185\n",
      "Epoch 83/100\n",
      "176272/176272 [==============================] - 1s 4us/step - loss: 0.3816 - acc: 0.8751 - auc: 0.9187 - val_loss: 0.3915 - val_acc: 0.8683 - val_auc: 0.9188\n",
      "Epoch 84/100\n",
      "176272/176272 [==============================] - 1s 4us/step - loss: 0.3810 - acc: 0.8752 - auc: 0.9190 - val_loss: 0.3909 - val_acc: 0.8680 - val_auc: 0.9191\n",
      "Epoch 85/100\n",
      "176272/176272 [==============================] - 1s 4us/step - loss: 0.3805 - acc: 0.8751 - auc: 0.9192 - val_loss: 0.3907 - val_acc: 0.8685 - val_auc: 0.9194\n",
      "Epoch 86/100\n",
      "176272/176272 [==============================] - 1s 4us/step - loss: 0.3798 - acc: 0.8761 - auc: 0.9195 - val_loss: 0.3902 - val_acc: 0.8681 - val_auc: 0.9196\n",
      "Epoch 87/100\n",
      "176272/176272 [==============================] - 1s 4us/step - loss: 0.3800 - acc: 0.8745 - auc: 0.9198 - val_loss: 0.3896 - val_acc: 0.8680 - val_auc: 0.9199\n",
      "Epoch 88/100\n",
      "176272/176272 [==============================] - 1s 4us/step - loss: 0.3785 - acc: 0.8756 - auc: 0.9200 - val_loss: 0.3893 - val_acc: 0.8684 - val_auc: 0.9201\n",
      "Epoch 89/100\n",
      "176272/176272 [==============================] - 1s 5us/step - loss: 0.3780 - acc: 0.8758 - auc: 0.9203 - val_loss: 0.3890 - val_acc: 0.8682 - val_auc: 0.9204\n",
      "Epoch 90/100\n",
      "176272/176272 [==============================] - 1s 4us/step - loss: 0.3770 - acc: 0.8764 - auc: 0.9205 - val_loss: 0.3885 - val_acc: 0.8686 - val_auc: 0.9206\n",
      "Epoch 91/100\n",
      "176272/176272 [==============================] - 1s 4us/step - loss: 0.3766 - acc: 0.8763 - auc: 0.9208 - val_loss: 0.3881 - val_acc: 0.8684 - val_auc: 0.9209\n",
      "Epoch 92/100\n",
      "176272/176272 [==============================] - 1s 4us/step - loss: 0.3764 - acc: 0.8770 - auc: 0.9210 - val_loss: 0.3876 - val_acc: 0.8684 - val_auc: 0.9211\n",
      "Epoch 93/100\n",
      "176272/176272 [==============================] - 1s 4us/step - loss: 0.3763 - acc: 0.8760 - auc: 0.9212 - val_loss: 0.3871 - val_acc: 0.8683 - val_auc: 0.9213\n",
      "Epoch 94/100\n",
      "176272/176272 [==============================] - 1s 4us/step - loss: 0.3755 - acc: 0.8766 - auc: 0.9214 - val_loss: 0.3869 - val_acc: 0.8688 - val_auc: 0.9215\n",
      "Epoch 95/100\n",
      "176272/176272 [==============================] - 1s 5us/step - loss: 0.3753 - acc: 0.8762 - auc: 0.9217 - val_loss: 0.3864 - val_acc: 0.8687 - val_auc: 0.9218\n",
      "Epoch 96/100\n",
      "176272/176272 [==============================] - 1s 5us/step - loss: 0.3743 - acc: 0.8769 - auc: 0.9219 - val_loss: 0.3863 - val_acc: 0.8685 - val_auc: 0.9220\n",
      "Epoch 97/100\n",
      "176272/176272 [==============================] - 1s 5us/step - loss: 0.3738 - acc: 0.8767 - auc: 0.9221 - val_loss: 0.3857 - val_acc: 0.8692 - val_auc: 0.9222\n",
      "Epoch 98/100\n",
      "176272/176272 [==============================] - 1s 5us/step - loss: 0.3733 - acc: 0.8766 - auc: 0.9223 - val_loss: 0.3855 - val_acc: 0.8692 - val_auc: 0.9224\n",
      "Epoch 99/100\n",
      "176272/176272 [==============================] - 1s 5us/step - loss: 0.3735 - acc: 0.8775 - auc: 0.9225 - val_loss: 0.3848 - val_acc: 0.8690 - val_auc: 0.9226\n",
      "Epoch 100/100\n",
      "176272/176272 [==============================] - 1s 4us/step - loss: 0.3730 - acc: 0.8768 - auc: 0.9227 - val_loss: 0.3849 - val_acc: 0.8695 - val_auc: 0.9228\n"
     ]
    }
   ],
   "source": [
    "model_NN_32 = build_NN_32(X_train_NN)\n",
    "history_NN_32 = model_NN_32.fit(X_train_NN,Y_train_NN,validation_data = (X_val_NN,Y_val_NN),epochs=100,batch_size=2*4*4*512)\n",
    "\n",
    "#model_NN_32 = build_NN_64(X_train_NN)\n",
    "#history_NN_32 = model_NN_32.fit(X_train_NN,Y_train_NN,validation_data = (X_val_NN,Y_val_NN),epochs=100,batch_size=4*8*4*512)\n",
    "#model_NN_32 = build_NN_128(X_train_NN)\n",
    "#history_NN_32 = model_NN_32.fit(X_train_NN,Y_train_NN,validation_data = (X_val_NN,Y_val_NN),epochs=100,batch_size=4*2048)"
   ]
  },
  {
   "cell_type": "code",
   "execution_count": 8,
   "metadata": {},
   "outputs": [
    {
     "data": {
      "image/png": "[encoded data removed]",
      "text/plain": [
       "<Figure size 432x288 with 1 Axes>"
      ]
     },
     "metadata": {
      "needs_background": "light"
     },
     "output_type": "display_data"
    },
    {
     "data": {
      "image/png": "[encoded data removed]",
      "text/plain": [
       "<Figure size 432x288 with 1 Axes>"
      ]
     },
     "metadata": {
      "needs_background": "light"
     },
     "output_type": "display_data"
    },
    {
     "data": {
      "image/png": "[encoded data removed]",
      "text/plain": [
       "<Figure size 432x288 with 1 Axes>"
      ]
     },
     "metadata": {
      "needs_background": "light"
     },
     "output_type": "display_data"
    }
   ],
   "source": [
    "plot_loss(history_NN_32)\n",
    "plot_acc(history_NN_32)\n",
    "plot_auc(history_NN_32)"
   ]
  },
  {
   "cell_type": "code",
   "execution_count": 9,
   "metadata": {},
   "outputs": [],
   "source": [
    "import time\n",
    "name_ext = str(time.time())\n",
    "#print(name_ext)"
   ]
  },
  {
   "cell_type": "markdown",
   "metadata": {},
   "source": [
    "## Save model"
   ]
  },
  {
   "cell_type": "code",
   "execution_count": 10,
   "metadata": {},
   "outputs": [
    {
     "name": "stdout",
     "output_type": "stream",
     "text": [
      "Saved model to disk\n",
      "name_ext = ' 1551991503.568746 '\n"
     ]
    }
   ],
   "source": [
    "# serialize model to JSON\n",
    "model_NN_32_json = model_NN_32.to_json()\n",
    "with open(\"model_NN_32_ts\"+name_ext+\".json\", \"w\") as json_file:\n",
    "    json_file.write(model_NN_32_json)\n",
    "# serialize weights to HDF5\n",
    "model_NN_32.save_weights(\"model_NN_32_ts\"+name_ext+\".h5\")\n",
    "print(\"Saved model to disk\")\n",
    "print(\"name_ext = '\",name_ext,\"'\")\n",
    "#!ls -1t | head -5"
   ]
  },
  {
   "cell_type": "markdown",
   "metadata": {},
   "source": [
    "## Conclusion, observations"
   ]
  },
  {
   "cell_type": "markdown",
   "metadata": {},
   "source": [
    " * NN with 32 input layers and batch size 4*512 shows good performance already with 10 epoch (val_acc: 0.8104), which becomes even better for 100 (val_acc: 0.8652) \n"
   ]
  },
  {
   "cell_type": "code",
   "execution_count": null,
   "metadata": {},
   "outputs": [],
   "source": []
  },
  {
   "cell_type": "code",
   "execution_count": null,
   "metadata": {},
   "outputs": [],
   "source": []
  },
  {
   "cell_type": "code",
   "execution_count": null,
   "metadata": {},
   "outputs": [],
   "source": []
  }
 ],
 "metadata": {
  "kernelspec": {
   "display_name": "Python 3",
   "language": "python",
   "name": "python3"
  },
  "language_info": {
   "codemirror_mode": {
    "name": "ipython",
    "version": 3
   },
   "file_extension": ".py",
   "mimetype": "text/x-python",
   "name": "python",
   "nbconvert_exporter": "python",
   "pygments_lexer": "ipython3",
   "version": "3.7.1"
  }
 },
 "nbformat": 4,
 "nbformat_minor": 2
}
