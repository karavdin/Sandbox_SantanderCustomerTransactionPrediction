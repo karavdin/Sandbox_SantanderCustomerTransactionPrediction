{
 "cells": [
  {
   "cell_type": "markdown",
   "metadata": {},
   "source": [
    "# Part5: Model validation"
   ]
  },
  {
   "cell_type": "markdown",
   "metadata": {},
   "source": [
    "data is taken from https://www.kaggle.com/c/santander-customer-transaction-prediction\n",
    "\n",
    "In this challenge, Santander invites Kagglers to help them identify which customers will make a specific transaction in the future, irrespective of the amount of money transacted. The data provided for this competition has the same structure as the real data they have available to solve this problem.\n",
    "\n",
    "The data is anonimyzed, each row containing 200 numerical values identified just with a number.\n",
    "\n",
    "In this notebook we validate ML model and prepare file forsubmition to kaggle"
   ]
  },
  {
   "cell_type": "markdown",
   "metadata": {},
   "source": [
    "## Load packages"
   ]
  },
  {
   "cell_type": "code",
   "execution_count": 1,
   "metadata": {},
   "outputs": [
    {
     "name": "stderr",
     "output_type": "stream",
     "text": [
      "Using TensorFlow backend.\n"
     ]
    }
   ],
   "source": [
    "import numpy as np\n",
    "import pandas as pd\n",
    "import matplotlib.pyplot as plt\n",
    "from sklearn import metrics\n",
    "from sklearn.metrics import mean_squared_error\n",
    "from sklearn.metrics import roc_auc_score, roc_curve\n",
    "from sklearn.model_selection import StratifiedKFold\n",
    "from sklearn.preprocessing import StandardScaler\n",
    "from sklearn.model_selection import train_test_split\n",
    "from keras.layers import Dense, Activation, Dropout\n",
    "from keras.models import Sequential\n",
    "from keras import regularizers\n",
    "from keras.constraints import max_norm\n",
    "from keras.models import model_from_json\n",
    "\n",
    "from sklearn.metrics import roc_auc_score, roc_curve\n",
    "from sklearn.metrics import balanced_accuracy_score\n",
    "from sklearn.metrics import confusion_matrix"
   ]
  },
  {
   "cell_type": "markdown",
   "metadata": {},
   "source": [
    "## Load data"
   ]
  },
  {
   "cell_type": "code",
   "execution_count": 2,
   "metadata": {},
   "outputs": [
    {
     "name": "stdout",
     "output_type": "stream",
     "text": [
      "(60000, 195)\n",
      "(60000,)\n"
     ]
    }
   ],
   "source": [
    "#load oversampled data after ETL\n",
    "X_val = np.load(\"datasets/X_val_samp_std.npy\")\n",
    "Y_val = np.load(\"datasets/Y_val_samp.npy\")\n",
    "#X_train_orig = np.load(\"X_train_orig_std.npy\")\n",
    "#Y_train_orig = np.load(\"Y_train_orig.npy\")\n",
    "#X_test = np.load(\"X_test_std.npy\")\n",
    "\n",
    "print (X_val.shape)\n",
    "print (Y_val.shape)\n",
    "#X_test = np.fromfile(\"X_test_std\")"
   ]
  },
  {
   "cell_type": "code",
   "execution_count": 3,
   "metadata": {},
   "outputs": [],
   "source": [
    "#Sample half of the datasets (before over-sampling) for validations\n",
    "#X_train_NN ,X_val_NN ,Y_train_NN , Y_val_NN = train_test_split(X_train_orig,Y_train_orig,test_size=0.5,random_state=45)"
   ]
  },
  {
   "cell_type": "markdown",
   "metadata": {},
   "source": [
    "## Check of performance\n",
    "Useful functions to check performance of the model"
   ]
  },
  {
   "cell_type": "code",
   "execution_count": 4,
   "metadata": {},
   "outputs": [],
   "source": [
    "# useful function from \n",
    "# https://imbalanced-learn.readthedocs.io/en/stable/auto_examples/ensemble/plot_comparison_ensemble_classifier.html#sphx-glr-auto-examples-ensemble-plot-comparison-ensemble-classifier-py\n",
    "import itertools\n",
    "\n",
    "def plot_confusion_matrix(cm, classes, ax,\n",
    "                          normalize=False,\n",
    "                          title='Confusion matrix',\n",
    "                          cmap=plt.cm.Blues):\n",
    "    \"\"\"\n",
    "    This function prints and plots the confusion matrix.\n",
    "    Normalization can be applied by setting `normalize=True`.\n",
    "    \"\"\"\n",
    "    print(cm)\n",
    "    print('')\n",
    "\n",
    "    ax.imshow(cm, interpolation='nearest', cmap=cmap)\n",
    "    ax.set_title(title)\n",
    "    tick_marks = np.arange(len(classes))\n",
    "    plt.xticks(tick_marks, classes, rotation=45)\n",
    "    plt.sca(ax)\n",
    "    plt.yticks(tick_marks, classes)\n",
    "\n",
    "    fmt = '.2f' if normalize else 'd'\n",
    "    thresh = cm.max() / 2.\n",
    "    for i, j in itertools.product(range(cm.shape[0]), range(cm.shape[1])):\n",
    "        ax.text(j, i, format(cm[i, j], fmt),\n",
    "                horizontalalignment=\"center\",\n",
    "                color=\"white\" if cm[i, j] > thresh else \"black\")\n",
    "\n",
    "    ax.set_ylabel('True label')\n",
    "    ax.set_xlabel('Predicted label')"
   ]
  },
  {
   "cell_type": "markdown",
   "metadata": {},
   "source": [
    "## Load trained model"
   ]
  },
  {
   "cell_type": "code",
   "execution_count": 5,
   "metadata": {},
   "outputs": [
    {
     "name": "stdout",
     "output_type": "stream",
     "text": [
      "WARNING:tensorflow:From /home/anastasia/anaconda3/lib/python3.7/site-packages/tensorflow/python/framework/op_def_library.py:263: colocate_with (from tensorflow.python.framework.ops) is deprecated and will be removed in a future version.\n",
      "Instructions for updating:\n",
      "Colocations handled automatically by placer.\n",
      "WARNING:tensorflow:From /home/anastasia/anaconda3/lib/python3.7/site-packages/keras/backend/tensorflow_backend.py:3445: calling dropout (from tensorflow.python.ops.nn_ops) with keep_prob is deprecated and will be removed in a future version.\n",
      "Instructions for updating:\n",
      "Please use `rate` instead of `keep_prob`. Rate should be set to `rate = 1 - keep_prob`.\n",
      "Loaded model_NN_32 from disk\n"
     ]
    }
   ],
   "source": [
    "# load json and create model\n",
    "#name_ext = \"1551624345.9946399\"#32, 1000 epoch,  accuracy score: 0.7842128450612154\n",
    "#name_ext = '1551635924.673968' #32, accuracy score:0.816, misid 0 as 1: 14%, misid 1 as 0: 23%; \n",
    "#name_ext = '1551636560.3656414' #32, accuracy score:0.813, misid 0 as 1: 12%, misid 1 as 0: 26%;\n",
    "\n",
    "#name_ext = '1551638869.150083'#64, accuracy score:0.817, misid 0 as 1: 12%, misid 1 as 0: 25%;\n",
    "\n",
    "#name_ext = '1551640650.8077817' #128, accuracy score: 0.838, misid 0 as 1: 5%, misid 1 as 0: 27%;\n",
    "#name_ext = '1551641103.5993311' #128, accuracy score:0.856, misid 0 as 1: 7%, misid 1 as 0: 22%;\n",
    "\n",
    "#name_ext = '1553625018.9869893' #0.77, misid 0 as 1: 14.16, misid 1 as 0: 31.83, bias dense8 = 0.0, bias dense0=0\n",
    "#name_ext = '1553625869.9249058' #0.76, misid 0 as 1: 14.21, misid 1 as 0: 32.26, bias dense8 = +1.0, bias dense0=0\n",
    "\n",
    "#name_ext = '1553627327.756749' #5000epoch, 0.78, misid 0 as 1: 22.39 misid 1 as 0: 22.47, bias dense0 = -1.0, bias dense8=+1.0\n",
    "#name_ext = '1553647765.5184069' #4000epoch, 0.77, misid 0 as 1: 13.29, misid 1 as 0: 33.52 bias dense0 = -1.0, bias dense8=+1.0\n",
    "\n",
    "name_ext = '1554876627.8983727'\n",
    "\n",
    "json_file = open(\"model_NN_32_ts\"+name_ext+\".json\", 'r')\n",
    "loaded_model_json = json_file.read()\n",
    "json_file.close()\n",
    "loaded_model_NN_32 = model_from_json(loaded_model_json)\n",
    "# load weights into new model\n",
    "loaded_model_NN_32.load_weights(\"model_NN_32_ts\"+name_ext+\".h5\")\n",
    "print(\"Loaded model_NN_32 from disk\")"
   ]
  },
  {
   "cell_type": "markdown",
   "metadata": {},
   "source": [
    "## Evaluate loaded model on test data"
   ]
  },
  {
   "cell_type": "code",
   "execution_count": 6,
   "metadata": {},
   "outputs": [],
   "source": [
    "Y_pred = loaded_model_NN_32.predict(X_val)\n",
    "for i in range(len(Y_pred)):\n",
    "    if Y_pred[i]<0.5:\n",
    "        Y_pred[i] = int(0)\n",
    "    else:\n",
    "        Y_pred[i] = int(1)"
   ]
  },
  {
   "cell_type": "code",
   "execution_count": 7,
   "metadata": {},
   "outputs": [
    {
     "name": "stdout",
     "output_type": "stream",
     "text": [
      "accuracy score: 0.5900103285189005\n"
     ]
    }
   ],
   "source": [
    "print (\"accuracy score:\",balanced_accuracy_score(Y_val, Y_pred))"
   ]
  },
  {
   "cell_type": "code",
   "execution_count": 8,
   "metadata": {},
   "outputs": [
    {
     "name": "stdout",
     "output_type": "stream",
     "text": [
      "[[53574   419]\n",
      " [ 4879  1128]]\n",
      "\n",
      "misid 0 as 1: 0.77602652195655\n",
      "misid 1 as 0: 81.22190777426336\n"
     ]
    },
    {
     "data": {
      "image/png": "[encoded data removed]",
      "text/plain": [
       "<Figure size 432x288 with 1 Axes>"
      ]
     },
     "metadata": {
      "needs_background": "light"
     },
     "output_type": "display_data"
    }
   ],
   "source": [
    "cm_tree = confusion_matrix(Y_val, Y_pred)\n",
    "fig, ax = plt.subplots()\n",
    "0.76\n",
    "plot_confusion_matrix(cm_tree, classes=np.unique(Y_pred), ax=ax,title='model_NN_32')\n",
    "print(\"misid 0 as 1:\", (100*cm_tree[0,1])/float(cm_tree[0,0]+cm_tree[0,1]))\n",
    "print(\"misid 1 as 0:\", (100*cm_tree[1,0])/float(cm_tree[1,0]+cm_tree[1,1]))\n"
   ]
  },
  {
   "cell_type": "markdown",
   "metadata": {},
   "source": [
    "## Conclusion, observations"
   ]
  },
  {
   "cell_type": "markdown",
   "metadata": {},
   "source": [
    "* NN with 32 input layers and batch size 4*512 performance:\n",
    " * 10 epoch: balanced_score=0.78, type0 is misidentified as type1 in 21%, type1 misidentified as type0 in 21% \n",
    " * 100 epoch:  balanced_score=0.77, type0 is misidentified as type1 in 12%, type1 misidentified as type0 in 33%\n",
    " Overfiting!"
   ]
  },
  {
   "cell_type": "code",
   "execution_count": null,
   "metadata": {},
   "outputs": [],
   "source": []
  }
 ],
 "metadata": {
  "kernelspec": {
   "display_name": "Python 3",
   "language": "python",
   "name": "python3"
  },
  "language_info": {
   "codemirror_mode": {
    "name": "ipython",
    "version": 3
   },
   "file_extension": ".py",
   "mimetype": "text/x-python",
   "name": "python",
   "nbconvert_exporter": "python",
   "pygments_lexer": "ipython3",
   "version": "3.7.1"
  }
 },
 "nbformat": 4,
 "nbformat_minor": 2
}
